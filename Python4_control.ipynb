{
  "nbformat": 4,
  "nbformat_minor": 0,
  "metadata": {
    "colab": {
      "name": "Python4_control.ipynb",
      "provenance": [],
      "authorship_tag": "ABX9TyPohEyJdiIULyVFPI5Op7IU",
      "include_colab_link": true
    },
    "kernelspec": {
      "name": "python3",
      "display_name": "Python 3"
    },
    "language_info": {
      "name": "python"
    }
  },
  "cells": [
    {
      "cell_type": "markdown",
      "metadata": {
        "id": "view-in-github",
        "colab_type": "text"
      },
      "source": [
        "<a href=\"https://colab.research.google.com/github/fnzl54/Python_study/blob/main/Python4_control.ipynb\" target=\"_parent\"><img src=\"https://colab.research.google.com/assets/colab-badge.svg\" alt=\"Open In Colab\"/></a>"
      ]
    },
    {
      "cell_type": "markdown",
      "source": [
        "# 조건문"
      ],
      "metadata": {
        "id": "tTrGXRteWb7Q"
      }
    },
    {
      "cell_type": "code",
      "execution_count": 6,
      "metadata": {
        "colab": {
          "base_uri": "https://localhost:8080/"
        },
        "id": "L7DOKVbiWVNY",
        "outputId": "6946ffdd-94dc-41a4-f282-33c22f3c255e"
      },
      "outputs": [
        {
          "output_type": "stream",
          "name": "stdout",
          "text": [
            "미세먼지 농도 보통\n"
          ]
        }
      ],
      "source": [
        "pm = 30\n",
        "if pm > 35:\n",
        "  print(\"미세먼지 농도 나쁨\")\n",
        "elif pm > 25:\n",
        "  print(\"미세먼지 농도 보통\")\n",
        "else:\n",
        "  print(\"미세먼지 농도 좋음\")"
      ]
    },
    {
      "cell_type": "code",
      "source": [
        "pm = 30\n",
        "if pm > 35:\n",
        "  print(\"미세먼지 농도 나쁨\")\n",
        "elif pm > 25:\n",
        "  pass\n",
        "else:\n",
        "  print(\"미세먼지 농도 좋음\")"
      ],
      "metadata": {
        "id": "cVoVPmStXMl0"
      },
      "execution_count": 7,
      "outputs": []
    },
    {
      "cell_type": "code",
      "source": [
        "a = True\n",
        "b = False\n",
        "if a and b:\n",
        "  print(\"T\")\n",
        "\n",
        "if a or b:\n",
        "  print(\"t\")\n",
        "else:\n",
        "  print('f')"
      ],
      "metadata": {
        "colab": {
          "base_uri": "https://localhost:8080/"
        },
        "id": "Ld7Ml2JBYGoA",
        "outputId": "03b3d90a-6bb9-4304-b217-119ace9d93e8"
      },
      "execution_count": 8,
      "outputs": [
        {
          "output_type": "stream",
          "name": "stdout",
          "text": [
            "t\n"
          ]
        }
      ]
    },
    {
      "cell_type": "code",
      "source": [
        "list = [1,2,3,4,5,6,7]\n",
        "if 1 in list:\n",
        "  print(\"have 1\")\n",
        "if 10 not in list:\n",
        "  print(\"not 10\")\n"
      ],
      "metadata": {
        "colab": {
          "base_uri": "https://localhost:8080/"
        },
        "id": "yI_2iyatY7w2",
        "outputId": "f803a36b-4876-4b16-dd16-f8de061080d4"
      },
      "execution_count": 9,
      "outputs": [
        {
          "output_type": "stream",
          "name": "stdout",
          "text": [
            "have 1\n",
            "not 10\n"
          ]
        }
      ]
    },
    {
      "cell_type": "code",
      "source": [
        "# 조건부 표현식\n",
        "score = 90\n",
        "msg = \"통과\" if score > 70 else \"탈락\"\n",
        "print(msg)"
      ],
      "metadata": {
        "colab": {
          "base_uri": "https://localhost:8080/"
        },
        "id": "rXYx-UsOZMF5",
        "outputId": "126efe70-b336-4c5f-9897-1d30687c2fdd"
      },
      "execution_count": 10,
      "outputs": [
        {
          "output_type": "stream",
          "name": "stdout",
          "text": [
            "통과\n"
          ]
        }
      ]
    },
    {
      "cell_type": "markdown",
      "source": [
        "# 반복문"
      ],
      "metadata": {
        "id": "bBTZXFR0fqtv"
      }
    },
    {
      "cell_type": "code",
      "source": [
        "i = 1\n",
        "while i <= 10:\n",
        "  print(i)\n",
        "  i += 1"
      ],
      "metadata": {
        "colab": {
          "base_uri": "https://localhost:8080/"
        },
        "id": "PHHmeWcVadqv",
        "outputId": "bb1e7d92-a6b8-4a74-f48b-89764fef398c"
      },
      "execution_count": 12,
      "outputs": [
        {
          "output_type": "stream",
          "name": "stdout",
          "text": [
            "1\n",
            "2\n",
            "3\n",
            "4\n",
            "5\n",
            "6\n",
            "7\n",
            "8\n",
            "9\n",
            "10\n"
          ]
        }
      ]
    },
    {
      "cell_type": "code",
      "source": [
        "list = ['one','two','three']\n",
        "for i in list:\n",
        "  print(i + \" haha\")"
      ],
      "metadata": {
        "colab": {
          "base_uri": "https://localhost:8080/"
        },
        "id": "P6CarUZLfJXt",
        "outputId": "7d415a72-fe4d-4d66-8e8d-da904435f82f"
      },
      "execution_count": 14,
      "outputs": [
        {
          "output_type": "stream",
          "name": "stdout",
          "text": [
            "one haha\n",
            "two haha\n",
            "three haha\n"
          ]
        }
      ]
    },
    {
      "cell_type": "code",
      "source": [
        "sum = 0\n",
        "for i in range(1, 101, 1):\n",
        "  sum += i\n",
        "print(sum)"
      ],
      "metadata": {
        "colab": {
          "base_uri": "https://localhost:8080/"
        },
        "id": "3kVhjMjJf5Ux",
        "outputId": "7f1cc5a6-c94c-426f-e170-5d9cb918707f"
      },
      "execution_count": 15,
      "outputs": [
        {
          "output_type": "stream",
          "name": "stdout",
          "text": [
            "5050\n"
          ]
        }
      ]
    },
    {
      "cell_type": "code",
      "source": [
        "for i in range(2,4):\n",
        "  for j in range(1,10):\n",
        "    print(f\"{i} x {j} = {i*j}\")"
      ],
      "metadata": {
        "colab": {
          "base_uri": "https://localhost:8080/"
        },
        "id": "n1DxPNFWgVX7",
        "outputId": "1626477f-8cee-427a-a630-e09760b50911"
      },
      "execution_count": 19,
      "outputs": [
        {
          "output_type": "stream",
          "name": "stdout",
          "text": [
            "2 x 1 = 2\n",
            "2 x 2 = 4\n",
            "2 x 3 = 6\n",
            "2 x 4 = 8\n",
            "2 x 5 = 10\n",
            "2 x 6 = 12\n",
            "2 x 7 = 14\n",
            "2 x 8 = 16\n",
            "2 x 9 = 18\n",
            "3 x 1 = 3\n",
            "3 x 2 = 6\n",
            "3 x 3 = 9\n",
            "3 x 4 = 12\n",
            "3 x 5 = 15\n",
            "3 x 6 = 18\n",
            "3 x 7 = 21\n",
            "3 x 8 = 24\n",
            "3 x 9 = 27\n"
          ]
        }
      ]
    },
    {
      "cell_type": "code",
      "source": [
        "for _ in range(5):\n",
        "  print(\"123\")"
      ],
      "metadata": {
        "colab": {
          "base_uri": "https://localhost:8080/"
        },
        "id": "wV1HpXjQg6z3",
        "outputId": "0f840f81-2645-419f-9b34-0d0a3dd1a4dd"
      },
      "execution_count": 20,
      "outputs": [
        {
          "output_type": "stream",
          "name": "stdout",
          "text": [
            "123\n",
            "123\n",
            "123\n",
            "123\n",
            "123\n"
          ]
        }
      ]
    },
    {
      "cell_type": "code",
      "source": [
        "sum = 0\n",
        "for i in range(11):\n",
        "  sum += i\n",
        "else:\n",
        "  print(sum)"
      ],
      "metadata": {
        "colab": {
          "base_uri": "https://localhost:8080/"
        },
        "id": "LTHMK_SqhYr3",
        "outputId": "b0b10d80-ebac-4945-ea24-4f4346bcf3f4"
      },
      "execution_count": 21,
      "outputs": [
        {
          "output_type": "stream",
          "name": "stdout",
          "text": [
            "55\n"
          ]
        }
      ]
    },
    {
      "cell_type": "code",
      "source": [
        "for i in range(10):\n",
        "  if (i % 2 == 0):\n",
        "    continue\n",
        "  print(i)"
      ],
      "metadata": {
        "colab": {
          "base_uri": "https://localhost:8080/"
        },
        "id": "Lv3g_-0dh1LR",
        "outputId": "5cd6ffa3-a267-4685-ea67-f2814ddb17c5"
      },
      "execution_count": 22,
      "outputs": [
        {
          "output_type": "stream",
          "name": "stdout",
          "text": [
            "1\n",
            "3\n",
            "5\n",
            "7\n",
            "9\n"
          ]
        }
      ]
    },
    {
      "cell_type": "code",
      "source": [
        "# 리스트 내포\n",
        "list = [1,2,3,4,5]\n",
        "print([i * 2 for i in list if i != 2])"
      ],
      "metadata": {
        "colab": {
          "base_uri": "https://localhost:8080/"
        },
        "id": "wNlmikLxidFN",
        "outputId": "77b0d7d6-685b-41b9-c996-4e99eb23c010"
      },
      "execution_count": 25,
      "outputs": [
        {
          "output_type": "stream",
          "name": "stdout",
          "text": [
            "[2, 6, 8, 10]\n"
          ]
        }
      ]
    },
    {
      "cell_type": "code",
      "source": [
        "#문자열 역순 만들기\n",
        "string = \"chanyoung\"\n",
        "reverse = \"\"\n",
        "for i in string:\n",
        "  reverse = i + reverse\n",
        "\n",
        "print(string)\n",
        "print(reverse)"
      ],
      "metadata": {
        "colab": {
          "base_uri": "https://localhost:8080/"
        },
        "id": "_vF7qPehi9xi",
        "outputId": "a675e63f-5854-40e8-f46b-a6afecd07b1a"
      },
      "execution_count": 24,
      "outputs": [
        {
          "output_type": "stream",
          "name": "stdout",
          "text": [
            "chanyoung\n",
            "gnuoynahc\n"
          ]
        }
      ]
    },
    {
      "cell_type": "markdown",
      "source": [
        "# 에러와 예외"
      ],
      "metadata": {
        "id": "CBgyuYY4kWnA"
      }
    },
    {
      "cell_type": "code",
      "source": [
        "try:\n",
        "  print(2/0)\n",
        "except:\n",
        "  print(\"Error\")"
      ],
      "metadata": {
        "colab": {
          "base_uri": "https://localhost:8080/"
        },
        "id": "WxykGspNkWgi",
        "outputId": "2f558d69-5921-4610-9e2b-1657b4073e36"
      },
      "execution_count": 29,
      "outputs": [
        {
          "output_type": "stream",
          "name": "stdout",
          "text": [
            "Error\n"
          ]
        }
      ]
    },
    {
      "cell_type": "code",
      "source": [
        "# 여러 에러 분류\n",
        "try:\n",
        "  n = int(input(\"입력: \"))\n",
        "  result = 1 / n\n",
        "except ZeroDivisionError as e:\n",
        "  print(e)\n",
        "except ValueError as e:\n",
        "  print(e)\n",
        "else:\n",
        "  print(\"결과: \" + str(result))"
      ],
      "metadata": {
        "colab": {
          "base_uri": "https://localhost:8080/"
        },
        "id": "X_djIZpHjut9",
        "outputId": "71d88714-539d-4ed5-c96e-a8c9147c9681"
      },
      "execution_count": 32,
      "outputs": [
        {
          "output_type": "stream",
          "name": "stdout",
          "text": [
            "입력: 3\n",
            "결과: 0.3333333333333333\n"
          ]
        }
      ]
    },
    {
      "cell_type": "code",
      "source": [
        "#에러 발생\n",
        "a = 2\n",
        "assert a == 1, \"a가 변경 됨\""
      ],
      "metadata": {
        "colab": {
          "base_uri": "https://localhost:8080/",
          "height": 211
        },
        "id": "IcKFcZJkm0sZ",
        "outputId": "49d89341-1194-43c0-bb37-187c25abe02c"
      },
      "execution_count": 34,
      "outputs": [
        {
          "output_type": "error",
          "ename": "AssertionError",
          "evalue": "ignored",
          "traceback": [
            "\u001b[0;31m---------------------------------------------------------------------------\u001b[0m",
            "\u001b[0;31mAssertionError\u001b[0m                            Traceback (most recent call last)",
            "\u001b[0;32m<ipython-input-34-9d495fa9e2b1>\u001b[0m in \u001b[0;36m<module>\u001b[0;34m()\u001b[0m\n\u001b[1;32m      1\u001b[0m \u001b[0;31m#에러 발생\u001b[0m\u001b[0;34m\u001b[0m\u001b[0;34m\u001b[0m\u001b[0;34m\u001b[0m\u001b[0m\n\u001b[1;32m      2\u001b[0m \u001b[0ma\u001b[0m \u001b[0;34m=\u001b[0m \u001b[0;36m2\u001b[0m\u001b[0;34m\u001b[0m\u001b[0;34m\u001b[0m\u001b[0m\n\u001b[0;32m----> 3\u001b[0;31m \u001b[0;32massert\u001b[0m \u001b[0ma\u001b[0m \u001b[0;34m==\u001b[0m \u001b[0;36m1\u001b[0m\u001b[0;34m,\u001b[0m \u001b[0;34m\"a가 변경 됨\"\u001b[0m\u001b[0;34m\u001b[0m\u001b[0;34m\u001b[0m\u001b[0m\n\u001b[0m",
            "\u001b[0;31mAssertionError\u001b[0m: a가 변경 됨"
          ]
        }
      ]
    },
    {
      "cell_type": "code",
      "source": [
        ""
      ],
      "metadata": {
        "id": "hP_zrjZsntIm"
      },
      "execution_count": null,
      "outputs": []
    }
  ]
}