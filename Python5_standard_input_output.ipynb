{
  "nbformat": 4,
  "nbformat_minor": 0,
  "metadata": {
    "colab": {
      "name": "Python5_standard_input/output.ipynb",
      "provenance": [],
      "collapsed_sections": [],
      "authorship_tag": "ABX9TyPYhvrSGZYSc4JNfflWgDba",
      "include_colab_link": true
    },
    "kernelspec": {
      "name": "python3",
      "display_name": "Python 3"
    },
    "language_info": {
      "name": "python"
    }
  },
  "cells": [
    {
      "cell_type": "markdown",
      "metadata": {
        "id": "view-in-github",
        "colab_type": "text"
      },
      "source": [
        "<a href=\"https://colab.research.google.com/github/fnzl54/Python_study/blob/main/Python5_standard_input_output.ipynb\" target=\"_parent\"><img src=\"https://colab.research.google.com/assets/colab-badge.svg\" alt=\"Open In Colab\"/></a>"
      ]
    },
    {
      "cell_type": "markdown",
      "source": [
        "# 표준 입출력"
      ],
      "metadata": {
        "id": "mblz_oqHqcUF"
      }
    },
    {
      "cell_type": "code",
      "source": [
        "name  = input(\"이름: \")\n",
        "print(name)"
      ],
      "metadata": {
        "colab": {
          "base_uri": "https://localhost:8080/"
        },
        "id": "I1M9bebLqcN6",
        "outputId": "0b2f445b-0dca-4f98-da22-5ed8d5ee37ef"
      },
      "execution_count": null,
      "outputs": [
        {
          "output_type": "stream",
          "name": "stdout",
          "text": [
            "이름: 찬영\n",
            "찬영\n"
          ]
        }
      ]
    },
    {
      "cell_type": "code",
      "execution_count": null,
      "metadata": {
        "colab": {
          "base_uri": "https://localhost:8080/"
        },
        "id": "qk8DPfoaoTiY",
        "outputId": "2d3d1701-3482-494b-f402-67cb91a8325c"
      },
      "outputs": [
        {
          "output_type": "stream",
          "name": "stdout",
          "text": [
            "123===456 ^^\n"
          ]
        }
      ],
      "source": [
        "print(\"123\", \"456\", sep='===', end=' ')\n",
        "print(\"^^\")"
      ]
    },
    {
      "cell_type": "markdown",
      "source": [
        "# 파일 입출력"
      ],
      "metadata": {
        "id": "s2bzJy3PYyht"
      }
    },
    {
      "cell_type": "code",
      "source": [
        "f = open(\"file.txt\", 'w')\n",
        "f = open(\"file.txt\", 'r')\n",
        "f.close()"
      ],
      "metadata": {
        "id": "s0PNRrFvYyWK"
      },
      "execution_count": 3,
      "outputs": []
    },
    {
      "cell_type": "code",
      "source": [
        "!ls"
      ],
      "metadata": {
        "id": "OLokakI5YyR5",
        "colab": {
          "base_uri": "https://localhost:8080/"
        },
        "outputId": "396636cc-9b3c-41cd-dfb0-716664d35d33"
      },
      "execution_count": 4,
      "outputs": [
        {
          "output_type": "stream",
          "name": "stdout",
          "text": [
            "file.txt  sample_data\n"
          ]
        }
      ]
    },
    {
      "cell_type": "code",
      "source": [
        "f = open(\"file.txt\", 'w')\n",
        "f.write(\"Hello python\")\n",
        "f.close()\n",
        "!cat file.txt"
      ],
      "metadata": {
        "id": "2vLmWUuis4hm",
        "colab": {
          "base_uri": "https://localhost:8080/"
        },
        "outputId": "b33e64ab-c71c-4371-a482-164a8e0cf770"
      },
      "execution_count": 6,
      "outputs": [
        {
          "output_type": "stream",
          "name": "stdout",
          "text": [
            "Hello python"
          ]
        }
      ]
    },
    {
      "cell_type": "code",
      "source": [
        "list = ['one\\n', 'two\\n', 'three\\n']\n",
        "f = open(\"file.txt\", 'w')\n",
        "f.writelines(list)\n",
        "f.close()\n",
        "!cat file.txt"
      ],
      "metadata": {
        "colab": {
          "base_uri": "https://localhost:8080/"
        },
        "id": "tZ8LQCTDdMhH",
        "outputId": "8bcf25dd-0626-4d53-f310-3869dbc6a2bb"
      },
      "execution_count": 8,
      "outputs": [
        {
          "output_type": "stream",
          "name": "stdout",
          "text": [
            "one\n",
            "two\n",
            "three\n"
          ]
        }
      ]
    },
    {
      "cell_type": "code",
      "source": [
        "f = open(\"dan.txt\", 'w')\n",
        "for i in range(2,10):\n",
        "  for j in range(1,10):\n",
        "    f.write(\"{0} x {1} = {2}\\t\".format(i,j,i*j))\n",
        "  else:\n",
        "    f.write(\"\\n\")\n",
        "f.close()\n",
        "!cat dan.txt"
      ],
      "metadata": {
        "colab": {
          "base_uri": "https://localhost:8080/"
        },
        "id": "0nHe8J68eFgd",
        "outputId": "d258f1f0-e679-4e46-90ab-ef5ca0d1238f"
      },
      "execution_count": 12,
      "outputs": [
        {
          "output_type": "stream",
          "name": "stdout",
          "text": [
            "2 x 1 = 2\t2 x 2 = 4\t2 x 3 = 6\t2 x 4 = 8\t2 x 5 = 10\t2 x 6 = 12\t2 x 7 = 14\t2 x 8 = 16\t2 x 9 = 18\t\n",
            "3 x 1 = 3\t3 x 2 = 6\t3 x 3 = 9\t3 x 4 = 12\t3 x 5 = 15\t3 x 6 = 18\t3 x 7 = 21\t3 x 8 = 24\t3 x 9 = 27\t\n",
            "4 x 1 = 4\t4 x 2 = 8\t4 x 3 = 12\t4 x 4 = 16\t4 x 5 = 20\t4 x 6 = 24\t4 x 7 = 28\t4 x 8 = 32\t4 x 9 = 36\t\n",
            "5 x 1 = 5\t5 x 2 = 10\t5 x 3 = 15\t5 x 4 = 20\t5 x 5 = 25\t5 x 6 = 30\t5 x 7 = 35\t5 x 8 = 40\t5 x 9 = 45\t\n",
            "6 x 1 = 6\t6 x 2 = 12\t6 x 3 = 18\t6 x 4 = 24\t6 x 5 = 30\t6 x 6 = 36\t6 x 7 = 42\t6 x 8 = 48\t6 x 9 = 54\t\n",
            "7 x 1 = 7\t7 x 2 = 14\t7 x 3 = 21\t7 x 4 = 28\t7 x 5 = 35\t7 x 6 = 42\t7 x 7 = 49\t7 x 8 = 56\t7 x 9 = 63\t\n",
            "8 x 1 = 8\t8 x 2 = 16\t8 x 3 = 24\t8 x 4 = 32\t8 x 5 = 40\t8 x 6 = 48\t8 x 7 = 56\t8 x 8 = 64\t8 x 9 = 72\t\n",
            "9 x 1 = 9\t9 x 2 = 18\t9 x 3 = 27\t9 x 4 = 36\t9 x 5 = 45\t9 x 6 = 54\t9 x 7 = 63\t9 x 8 = 72\t9 x 9 = 81\t\n"
          ]
        }
      ]
    },
    {
      "cell_type": "code",
      "source": [
        "!echo \"동해물과 백두산이 마르고 닳도록\" > anthem.txt\n",
        "!echo \"하느님이 보우하사 우리나라 만세\" >> anthem.txt"
      ],
      "metadata": {
        "id": "fiJ_LF2UfueJ"
      },
      "execution_count": 13,
      "outputs": []
    },
    {
      "cell_type": "code",
      "source": [
        "f = open(\"anthem.txt\",'r')\n",
        "while True:\n",
        "  print(f.tell())\n",
        "  line = f.readline()\n",
        "  if not line:\n",
        "    break\n",
        "  print(line)\n",
        "\n",
        "f.close()"
      ],
      "metadata": {
        "colab": {
          "base_uri": "https://localhost:8080/"
        },
        "id": "rQeYjJSakJqC",
        "outputId": "7cdbf14e-c576-479d-dc3a-a90aa189b990"
      },
      "execution_count": 16,
      "outputs": [
        {
          "output_type": "stream",
          "name": "stdout",
          "text": [
            "0\n",
            "동해물과 백두산이 마르고 닳도록\n",
            "\n",
            "46\n",
            "하느님이 보우하사 우리나라 만세\n",
            "\n",
            "92\n"
          ]
        }
      ]
    },
    {
      "cell_type": "code",
      "source": [
        "# 표준 입력 계속 받아서 파일 쓰기\n",
        "with open(\"file.txt\", 'w') as f:\n",
        "  line = \"\"\n",
        "  while True:\n",
        "    line = input(\"입력: \")\n",
        "    if not line:\n",
        "      break\n",
        "    f.writelines(line +'\\n')"
      ],
      "metadata": {
        "colab": {
          "base_uri": "https://localhost:8080/"
        },
        "id": "B4V6UHsokn-l",
        "outputId": "8053e875-5c50-4db4-98d7-3dd4653a9b13"
      },
      "execution_count": 17,
      "outputs": [
        {
          "name": "stdout",
          "output_type": "stream",
          "text": [
            "입력: 동해물과\n",
            "입력: 백두산이\n",
            "입력: 마르고 닳도록\n",
            "입력: \n"
          ]
        }
      ]
    },
    {
      "cell_type": "code",
      "source": [
        "!cat file.txt"
      ],
      "metadata": {
        "colab": {
          "base_uri": "https://localhost:8080/"
        },
        "id": "IscvoVAumMJJ",
        "outputId": "6745a73d-1ba3-46ac-cfd0-e195ab24a0be"
      },
      "execution_count": 18,
      "outputs": [
        {
          "output_type": "stream",
          "name": "stdout",
          "text": [
            "동해물과\n",
            "백두산이\n",
            "마르고 닳도록\n"
          ]
        }
      ]
    },
    {
      "cell_type": "code",
      "source": [
        ""
      ],
      "metadata": {
        "id": "nrGpwUYzmTdT"
      },
      "execution_count": null,
      "outputs": []
    }
  ]
}