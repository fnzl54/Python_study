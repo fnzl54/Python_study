{
  "nbformat": 4,
  "nbformat_minor": 0,
  "metadata": {
    "colab": {
      "name": "Python7_object,class.ipynb",
      "provenance": [],
      "collapsed_sections": [],
      "authorship_tag": "ABX9TyNWSZ5RgUtqfZTF+4Ya0fxI",
      "include_colab_link": true
    },
    "kernelspec": {
      "name": "python3",
      "display_name": "Python 3"
    },
    "language_info": {
      "name": "python"
    }
  },
  "cells": [
    {
      "cell_type": "markdown",
      "metadata": {
        "id": "view-in-github",
        "colab_type": "text"
      },
      "source": [
        "<a href=\"https://colab.research.google.com/github/fnzl54/Python_study/blob/main/Python7_object%2Cclass.ipynb\" target=\"_parent\"><img src=\"https://colab.research.google.com/assets/colab-badge.svg\" alt=\"Open In Colab\"/></a>"
      ]
    },
    {
      "cell_type": "markdown",
      "source": [
        "# 클래스"
      ],
      "metadata": {
        "id": "Q1vDzHdq12XM"
      }
    },
    {
      "cell_type": "code",
      "execution_count": 1,
      "metadata": {
        "id": "fERgjz9Izk2I"
      },
      "outputs": [],
      "source": [
        "class Book(object):\n",
        "  author = \"\"\n",
        "  title = \"\"\n",
        "  publisher = \"\"\n",
        "  date = \"\""
      ]
    },
    {
      "cell_type": "code",
      "source": [
        "book = Book()\n",
        "book.author = \"chan\"\n",
        "print(book.author)"
      ],
      "metadata": {
        "colab": {
          "base_uri": "https://localhost:8080/"
        },
        "id": "9RMXocCo2EId",
        "outputId": "c018d630-3f0c-4257-ed87-698580c1be8a"
      },
      "execution_count": 2,
      "outputs": [
        {
          "output_type": "stream",
          "name": "stdout",
          "text": [
            "chan\n"
          ]
        }
      ]
    },
    {
      "cell_type": "code",
      "source": [
        "class Book(object):\n",
        "  author = \"\"\n",
        "  title = \"\"\n",
        "  publisher = \"\"\n",
        "  date = \"\"\n",
        "\n",
        "  def print_info(self):\n",
        "    print(\"A : \", self.author)\n",
        "    print(\"T : \", self.title)"
      ],
      "metadata": {
        "id": "bF8ih2LS2OQf"
      },
      "execution_count": 3,
      "outputs": []
    },
    {
      "cell_type": "code",
      "source": [
        "book = Book()\n",
        "book.author = \"chan\"\n",
        "book.title = \"python study\"\n",
        "book.print_info()"
      ],
      "metadata": {
        "colab": {
          "base_uri": "https://localhost:8080/"
        },
        "id": "-XjE0Nil3HxF",
        "outputId": "5b77f2ea-24ee-42da-a9e2-8f8a21124cbb"
      },
      "execution_count": 4,
      "outputs": [
        {
          "output_type": "stream",
          "name": "stdout",
          "text": [
            "A :  chan\n",
            "T :  python study\n"
          ]
        }
      ]
    },
    {
      "cell_type": "code",
      "source": [
        "# 클래스 속성\n",
        "class Book(object):\n",
        "  author = \"\"\n",
        "  title = \"\"\n",
        "  publisher = \"\"\n",
        "  date = \"\"\n",
        "  count = 0\n",
        "  \n",
        "  def print_info(self):\n",
        "    print(\"A : \", self.author)\n",
        "    print(\"T : \", self.title)"
      ],
      "metadata": {
        "id": "rji-ZvkZ3usw"
      },
      "execution_count": 5,
      "outputs": []
    },
    {
      "cell_type": "code",
      "source": [
        "book = Book()\n",
        "Book.count += 1 # 클래스 속성을 수정\n",
        "book.author = \"chan\"\n",
        "book.title = \"python study\"\n",
        "book.print_info()\n",
        "print(\"number of books: \", str(Book.count))"
      ],
      "metadata": {
        "colab": {
          "base_uri": "https://localhost:8080/"
        },
        "id": "dv6hRrU849yk",
        "outputId": "8b1aae98-3ea3-46ef-afaa-c23c3a879e66"
      },
      "execution_count": 6,
      "outputs": [
        {
          "output_type": "stream",
          "name": "stdout",
          "text": [
            "A :  chan\n",
            "T :  python study\n",
            "number of books:  1\n"
          ]
        }
      ]
    },
    {
      "cell_type": "code",
      "source": [
        "# 매직 메소드\n",
        "class Book(object):\n",
        "  count = 0\n",
        "  \n",
        "  def __init__(self, author, title, publisher, date):\n",
        "    self.author = author\n",
        "    self.title = title\n",
        "    self.publisher = publisher\n",
        "    self.date = date\n",
        "    Book.count += 1\n",
        "\n",
        "  def print_info(self):\n",
        "    print(\"A : \", self.author)\n",
        "    print(\"T : \", self.title)\n",
        "    print(\"P : \", self.publisher)\n",
        "    print(\"D : \", self.date)"
      ],
      "metadata": {
        "id": "lizOloob5Nu0"
      },
      "execution_count": 7,
      "outputs": []
    },
    {
      "cell_type": "code",
      "source": [
        "book = Book(\"chan\", \"python study\", \"colab\", \"2021\")\n",
        "book.print_info()\n",
        "print(\"number of books: \", str(Book.count))"
      ],
      "metadata": {
        "colab": {
          "base_uri": "https://localhost:8080/"
        },
        "id": "9Nbsf7w87mGX",
        "outputId": "bab01990-d545-4b77-e9ae-ef9249aaf7ae"
      },
      "execution_count": 8,
      "outputs": [
        {
          "output_type": "stream",
          "name": "stdout",
          "text": [
            "A :  chan\n",
            "T :  python study\n",
            "P :  colab\n",
            "D :  2021\n",
            "number of books:  1\n"
          ]
        }
      ]
    },
    {
      "cell_type": "markdown",
      "source": [
        "# 상속"
      ],
      "metadata": {
        "id": "_lfky4r9CcQH"
      }
    },
    {
      "cell_type": "code",
      "source": [
        "class SuperClass(object):\n",
        "  pass\n",
        "\n",
        "class SubClass(SuperClass):\n",
        "  pass"
      ],
      "metadata": {
        "id": "iN6hOkk371Cc"
      },
      "execution_count": 10,
      "outputs": []
    },
    {
      "cell_type": "code",
      "source": [
        "# 메소드 오버라이딩\n",
        "class SuperClass(object):\n",
        "  def method(self):\n",
        "    pass\n",
        "\n",
        "class SubClass1(SuperClass): #메소드 오버라이딩\n",
        "  def method(self):\n",
        "      print(\"Method Overriding\")\n",
        "\n",
        "class SubClass2(SuperClass):\n",
        "  pass"
      ],
      "metadata": {
        "id": "gOgDmAUMCFS2"
      },
      "execution_count": 12,
      "outputs": []
    },
    {
      "cell_type": "code",
      "source": [
        "sub1 = SubClass1()\n",
        "sub2 = SubClass2()\n",
        "\n",
        "sub1.method()\n",
        "sub2.method()"
      ],
      "metadata": {
        "colab": {
          "base_uri": "https://localhost:8080/"
        },
        "id": "DwgsJYTaC6VB",
        "outputId": "d1943433-66a4-4918-f9b0-a1edddc58c9c"
      },
      "execution_count": 13,
      "outputs": [
        {
          "output_type": "stream",
          "name": "stdout",
          "text": [
            "Method Overriding\n"
          ]
        }
      ]
    },
    {
      "cell_type": "code",
      "source": [
        "class Vehicle(object):\n",
        "  \n",
        "  speed = 0\n",
        "\n",
        "  def up_speed(self, value):\n",
        "    self.speed += value\n",
        "\n",
        "  def down_speed(self, value):\n",
        "    self.speed -= value\n",
        "\n",
        "  def print_speed(self):\n",
        "    print(\"Speed: \", str(self.speed))\n",
        "\n",
        "class Car(Vehicle):\n",
        "  def up_speed(self, value):\n",
        "    self.speed += value\n",
        "    if self.speed > 240:\n",
        "      self.speed = 240\n",
        "\n",
        "class Truck(Vehicle):\n",
        "  def up_speed(self, value):\n",
        "    self.speed += value\n",
        "    if self.speed > 180:\n",
        "      self.speed = 180"
      ],
      "metadata": {
        "id": "NES_WJWlDHkO"
      },
      "execution_count": 14,
      "outputs": []
    },
    {
      "cell_type": "code",
      "source": [
        "car = Car()\n",
        "car.up_speed(300)\n",
        "car.print_speed()\n",
        "\n",
        "truck = Truck()\n",
        "truck.up_speed(300)\n",
        "truck.print_speed()"
      ],
      "metadata": {
        "colab": {
          "base_uri": "https://localhost:8080/"
        },
        "id": "FI4sVV71Frcb",
        "outputId": "c0f111b7-d966-4b32-a444-1a73165655f4"
      },
      "execution_count": 16,
      "outputs": [
        {
          "output_type": "stream",
          "name": "stdout",
          "text": [
            "Speed:  240\n",
            "Speed:  180\n"
          ]
        }
      ]
    },
    {
      "cell_type": "code",
      "source": [
        ""
      ],
      "metadata": {
        "id": "MveS6p8eFygd"
      },
      "execution_count": null,
      "outputs": []
    }
  ]
}