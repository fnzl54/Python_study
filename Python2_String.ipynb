{
  "nbformat": 4,
  "nbformat_minor": 0,
  "metadata": {
    "colab": {
      "name": "Python2_String.ipynb",
      "provenance": [],
      "collapsed_sections": [
        "EbZuBZYZkMxY",
        "8_zfNSvImxgb",
        "BmUdDr7lfIND"
      ],
      "authorship_tag": "ABX9TyNRaumRrPQ7A0pQgcHsTudU",
      "include_colab_link": true
    },
    "kernelspec": {
      "name": "python3",
      "display_name": "Python 3"
    },
    "language_info": {
      "name": "python"
    }
  },
  "cells": [
    {
      "cell_type": "markdown",
      "metadata": {
        "id": "view-in-github",
        "colab_type": "text"
      },
      "source": [
        "<a href=\"https://colab.research.google.com/github/fnzl54/Python_study/blob/main/Python2_String.ipynb\" target=\"_parent\"><img src=\"https://colab.research.google.com/assets/colab-badge.svg\" alt=\"Open In Colab\"/></a>"
      ]
    },
    {
      "cell_type": "markdown",
      "source": [
        "# 문자열 생성"
      ],
      "metadata": {
        "id": "EbZuBZYZkMxY"
      }
    },
    {
      "cell_type": "code",
      "execution_count": 1,
      "metadata": {
        "colab": {
          "base_uri": "https://localhost:8080/"
        },
        "id": "RV-Qr_1zeG1k",
        "outputId": "26c6f18e-e7d7-4ca4-c125-2c7e52085e94"
      },
      "outputs": [
        {
          "output_type": "stream",
          "name": "stdout",
          "text": [
            "asdf\n",
            "asdfg\n"
          ]
        }
      ],
      "source": [
        "print('asdf')\n",
        "print(\"asdfg\")"
      ]
    },
    {
      "cell_type": "code",
      "source": [
        "print(\"\"\"동해물과 백두산이\n",
        "마르고 닳도록\n",
        "하느님이 보우하사\n",
        "우리나라 만세\"\"\")"
      ],
      "metadata": {
        "colab": {
          "base_uri": "https://localhost:8080/"
        },
        "id": "QetnPlmrlhcW",
        "outputId": "20e4aa54-c838-4d15-8359-fd972e3f5e8e"
      },
      "execution_count": 2,
      "outputs": [
        {
          "output_type": "stream",
          "name": "stdout",
          "text": [
            "동해물과 백두산이\n",
            "마르고 닳도록\n",
            "하느님이 보우하사\n",
            "우리나라 만세\n"
          ]
        }
      ]
    },
    {
      "cell_type": "markdown",
      "source": [
        "# 문자열 연산"
      ],
      "metadata": {
        "id": "8_zfNSvImxgb"
      }
    },
    {
      "cell_type": "code",
      "source": [
        "s = \"String \"\n",
        "print(s * 3)"
      ],
      "metadata": {
        "colab": {
          "base_uri": "https://localhost:8080/"
        },
        "id": "p2Q3_iM9mkKm",
        "outputId": "a1cb47f4-84e2-405f-b161-88b26c3dbf14"
      },
      "execution_count": null,
      "outputs": [
        {
          "output_type": "stream",
          "name": "stdout",
          "text": [
            "String String String \n"
          ]
        }
      ]
    },
    {
      "cell_type": "code",
      "source": [
        "# 인덱싱\n",
        "s[4]"
      ],
      "metadata": {
        "colab": {
          "base_uri": "https://localhost:8080/",
          "height": 35
        },
        "id": "2kaj1N9tm4ko",
        "outputId": "01168357-bfd7-4f29-df84-270dd3d3028a"
      },
      "execution_count": null,
      "outputs": [
        {
          "output_type": "execute_result",
          "data": {
            "application/vnd.google.colaboratory.intrinsic+json": {
              "type": "string"
            },
            "text/plain": [
              "'n'"
            ]
          },
          "metadata": {},
          "execution_count": 7
        }
      ]
    },
    {
      "cell_type": "code",
      "source": [
        "# 슬라이싱\n",
        "print(s[1:5])\n",
        "print(s[:5])\n",
        "print(s[1:])"
      ],
      "metadata": {
        "colab": {
          "base_uri": "https://localhost:8080/"
        },
        "id": "eY4DcYEGnP57",
        "outputId": "703ea031-7bec-4042-f318-12bde25eed92"
      },
      "execution_count": null,
      "outputs": [
        {
          "output_type": "stream",
          "name": "stdout",
          "text": [
            "trin\n",
            "Strin\n",
            "tring \n"
          ]
        }
      ]
    },
    {
      "cell_type": "markdown",
      "source": [
        "# 문자열 메소드"
      ],
      "metadata": {
        "id": "BmUdDr7lfIND"
      }
    },
    {
      "cell_type": "code",
      "source": [
        "s = \"string\"\n",
        "s = s.capitalize()\n",
        "print(s)"
      ],
      "metadata": {
        "id": "W86cOj6jnsAn",
        "colab": {
          "base_uri": "https://localhost:8080/"
        },
        "outputId": "9c8c815a-3736-4312-e21e-d1ad8d09aa62"
      },
      "execution_count": 5,
      "outputs": [
        {
          "output_type": "stream",
          "name": "stdout",
          "text": [
            "String\n"
          ]
        }
      ]
    },
    {
      "cell_type": "code",
      "source": [
        "s = \"string\"\n",
        "s = s.count('s')\n",
        "print(s)"
      ],
      "metadata": {
        "colab": {
          "base_uri": "https://localhost:8080/"
        },
        "id": "tRXSgvoUfpoV",
        "outputId": "08da62d3-e3b7-4c41-f817-c42d69a7ea11"
      },
      "execution_count": 6,
      "outputs": [
        {
          "output_type": "stream",
          "name": "stdout",
          "text": [
            "1\n"
          ]
        }
      ]
    },
    {
      "cell_type": "code",
      "source": [
        "s = \"string\"\n",
        "s = s.find('r')\n",
        "print(s)"
      ],
      "metadata": {
        "colab": {
          "base_uri": "https://localhost:8080/"
        },
        "id": "2J4C6vyggHHB",
        "outputId": "38f34276-e9f2-4044-c334-ee29183c439b"
      },
      "execution_count": 8,
      "outputs": [
        {
          "output_type": "stream",
          "name": "stdout",
          "text": [
            "2\n"
          ]
        }
      ]
    },
    {
      "cell_type": "code",
      "source": [
        "s = \"string\"\n",
        "print('_'.join(s))"
      ],
      "metadata": {
        "colab": {
          "base_uri": "https://localhost:8080/"
        },
        "id": "MH6tB62ZgmlC",
        "outputId": "3bb20d21-650c-4883-932a-d60d232b0290"
      },
      "execution_count": 9,
      "outputs": [
        {
          "output_type": "stream",
          "name": "stdout",
          "text": [
            "s_t_r_i_n_g\n"
          ]
        }
      ]
    },
    {
      "cell_type": "code",
      "source": [
        "print(\"String\".partition('t'))"
      ],
      "metadata": {
        "colab": {
          "base_uri": "https://localhost:8080/"
        },
        "id": "C-HYJB8qhLWa",
        "outputId": "b607218b-2f8e-471d-8723-6b8405915bf0"
      },
      "execution_count": 10,
      "outputs": [
        {
          "output_type": "stream",
          "name": "stdout",
          "text": [
            "('S', 't', 'ring')\n"
          ]
        }
      ]
    },
    {
      "cell_type": "code",
      "source": [
        "s = \"string\"\n",
        "print(s.replace(\"str\", \"R\"))"
      ],
      "metadata": {
        "colab": {
          "base_uri": "https://localhost:8080/"
        },
        "id": "CnhDgVathet8",
        "outputId": "c205a6c4-05ea-4bf1-8905-5d2f94a722fa"
      },
      "execution_count": 11,
      "outputs": [
        {
          "output_type": "stream",
          "name": "stdout",
          "text": [
            "Ring\n"
          ]
        }
      ]
    },
    {
      "cell_type": "code",
      "source": [
        "print(\"1_2_3\".split('_'))"
      ],
      "metadata": {
        "colab": {
          "base_uri": "https://localhost:8080/"
        },
        "id": "wUTxJT0xoP2f",
        "outputId": "27ed00d7-ab92-4c32-f6a1-7c2f4af4a311"
      },
      "execution_count": 14,
      "outputs": [
        {
          "output_type": "stream",
          "name": "stdout",
          "text": [
            "['1', '2', '3']\n"
          ]
        }
      ]
    },
    {
      "cell_type": "code",
      "source": [
        "print(\"나는 %s가 %d개 있다\" %(\"사과\", 2))"
      ],
      "metadata": {
        "colab": {
          "base_uri": "https://localhost:8080/"
        },
        "id": "aqsUzjqvo60O",
        "outputId": "6884b369-bc86-4a4c-dd3f-df0674d43948"
      },
      "execution_count": 16,
      "outputs": [
        {
          "output_type": "stream",
          "name": "stdout",
          "text": [
            "나는 사과가 2개 있다\n"
          ]
        }
      ]
    },
    {
      "cell_type": "code",
      "source": [
        "print(\"나는 {0}가 {1}개 있다\".format(\"바나나\", 2))"
      ],
      "metadata": {
        "colab": {
          "base_uri": "https://localhost:8080/"
        },
        "id": "CUMtHcRupvZi",
        "outputId": "2da7d6a0-5687-42ec-be2a-fa6a6f0583ce"
      },
      "execution_count": 18,
      "outputs": [
        {
          "output_type": "stream",
          "name": "stdout",
          "text": [
            "나는 바나나가 2개 있다\n"
          ]
        }
      ]
    },
    {
      "cell_type": "code",
      "source": [
        "s = \"망고\"\n",
        "n = 145\n",
        "print(f\"나는 {s}가 {n}개 있다.\")"
      ],
      "metadata": {
        "colab": {
          "base_uri": "https://localhost:8080/"
        },
        "id": "gBIbNfQasBXK",
        "outputId": "afddc669-1569-4779-d4b3-7523e6cf5e04"
      },
      "execution_count": 19,
      "outputs": [
        {
          "output_type": "stream",
          "name": "stdout",
          "text": [
            "나는 망고가 145개 있다.\n"
          ]
        }
      ]
    },
    {
      "cell_type": "code",
      "source": [
        ""
      ],
      "metadata": {
        "id": "7RViD0SKuEeZ"
      },
      "execution_count": null,
      "outputs": []
    }
  ]
}