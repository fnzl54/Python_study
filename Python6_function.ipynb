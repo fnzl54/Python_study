{
  "nbformat": 4,
  "nbformat_minor": 0,
  "metadata": {
    "colab": {
      "name": "Python6_function.ipynb",
      "provenance": [],
      "collapsed_sections": [
        "7_7Z4zZddAzc"
      ],
      "authorship_tag": "ABX9TyO4UML8kUbpQ2QvE4QMFPA4",
      "include_colab_link": true
    },
    "kernelspec": {
      "name": "python3",
      "display_name": "Python 3"
    },
    "language_info": {
      "name": "python"
    }
  },
  "cells": [
    {
      "cell_type": "markdown",
      "metadata": {
        "id": "view-in-github",
        "colab_type": "text"
      },
      "source": [
        "<a href=\"https://colab.research.google.com/github/fnzl54/Python_study/blob/main/Python6_function.ipynb\" target=\"_parent\"><img src=\"https://colab.research.google.com/assets/colab-badge.svg\" alt=\"Open In Colab\"/></a>"
      ]
    },
    {
      "cell_type": "markdown",
      "source": [
        "# 함수"
      ],
      "metadata": {
        "id": "7_7Z4zZddAzc"
      }
    },
    {
      "cell_type": "code",
      "execution_count": 1,
      "metadata": {
        "colab": {
          "base_uri": "https://localhost:8080/"
        },
        "id": "bZmP5pbUn6Ge",
        "outputId": "c2c10646-12d6-4609-e7a7-dbd31735403e"
      },
      "outputs": [
        {
          "output_type": "stream",
          "name": "stdout",
          "text": [
            "Hello World\n"
          ]
        }
      ],
      "source": [
        "def hello():\n",
        "  print(\"Hello World\")\n",
        "\n",
        "hello()"
      ]
    },
    {
      "cell_type": "code",
      "source": [
        "def hello1(string):\n",
        "  print(\"Hello\", string)\n",
        "\n",
        "hello1('python')"
      ],
      "metadata": {
        "id": "L_oGnr2OpY_r",
        "colab": {
          "base_uri": "https://localhost:8080/"
        },
        "outputId": "55c3963d-6c4f-4691-aef9-dff73ffec487"
      },
      "execution_count": 2,
      "outputs": [
        {
          "output_type": "stream",
          "name": "stdout",
          "text": [
            "Hello python\n"
          ]
        }
      ]
    },
    {
      "cell_type": "code",
      "source": [
        "def square(num):\n",
        "  return num * num\n",
        "\n",
        "square(5)"
      ],
      "metadata": {
        "colab": {
          "base_uri": "https://localhost:8080/"
        },
        "id": "6vRzmLY0dgAu",
        "outputId": "2f9a8054-68c4-48fa-d6ab-5d26e84d85fc"
      },
      "execution_count": 3,
      "outputs": [
        {
          "output_type": "execute_result",
          "data": {
            "text/plain": [
              "25"
            ]
          },
          "metadata": {},
          "execution_count": 3
        }
      ]
    },
    {
      "cell_type": "code",
      "source": [
        "def add(n1, n2):\n",
        "  return n1 + n2\n",
        "\n",
        "print(add(n2 = 5, n1 = 8))"
      ],
      "metadata": {
        "colab": {
          "base_uri": "https://localhost:8080/"
        },
        "id": "B8_dU1kLdyVw",
        "outputId": "879b120c-7531-4c26-810c-23fa32c2223f"
      },
      "execution_count": 4,
      "outputs": [
        {
          "output_type": "stream",
          "name": "stdout",
          "text": [
            "13\n"
          ]
        }
      ]
    },
    {
      "cell_type": "code",
      "source": [
        "# 가변 매개변수\n",
        "def add1(*args):\n",
        "  res = 0\n",
        "  print(type(args))\n",
        "  for i in  args:\n",
        "    res += i\n",
        "  return res\n",
        "\n",
        "print(add1(1,2,3))\n",
        "print(add1(123,142,346,236,735,235,7354,2357246))"
      ],
      "metadata": {
        "colab": {
          "base_uri": "https://localhost:8080/"
        },
        "id": "c5E_ara_eJXU",
        "outputId": "fcccb5f7-fb3e-4b58-e0c0-45b7e81ad2a0"
      },
      "execution_count": 5,
      "outputs": [
        {
          "output_type": "stream",
          "name": "stdout",
          "text": [
            "<class 'tuple'>\n",
            "6\n",
            "<class 'tuple'>\n",
            "2366417\n"
          ]
        }
      ]
    },
    {
      "cell_type": "code",
      "source": [
        "# 키워드 매개변수\n",
        "def print_c(**c):\n",
        "  print(type(c))\n",
        "  print(c)\n",
        "\n",
        "print_c(n1 = 2, n2 = 5)"
      ],
      "metadata": {
        "colab": {
          "base_uri": "https://localhost:8080/"
        },
        "id": "ZRiTGwMLfE90",
        "outputId": "805dcdd2-3cc3-4dea-abd2-df4b304612b6"
      },
      "execution_count": 6,
      "outputs": [
        {
          "output_type": "stream",
          "name": "stdout",
          "text": [
            "<class 'dict'>\n",
            "{'n1': 2, 'n2': 5}\n"
          ]
        }
      ]
    },
    {
      "cell_type": "code",
      "source": [
        "#반환 여러개\n",
        "def mul(n1 = 1, n2 = 3):\n",
        "  return n1 + n2, n1 - n2\n",
        "\n",
        "res = mul()\n",
        "print(res)\n",
        "print(type(res))"
      ],
      "metadata": {
        "colab": {
          "base_uri": "https://localhost:8080/"
        },
        "id": "vUefzH2Sgwqz",
        "outputId": "3a072ff6-9d79-4e65-e0aa-8aba852173ae"
      },
      "execution_count": 7,
      "outputs": [
        {
          "output_type": "stream",
          "name": "stdout",
          "text": [
            "(4, -2)\n",
            "<class 'tuple'>\n"
          ]
        }
      ]
    },
    {
      "cell_type": "code",
      "source": [
        "def func1(n1, n2):\n",
        "  def func2(u1, u2):\n",
        "    return u1 + u2\n",
        "  return func2(n1 + n2)\n",
        "\n",
        "print(func1(5,8))\n",
        "print(func2(5,8))"
      ],
      "metadata": {
        "colab": {
          "base_uri": "https://localhost:8080/",
          "height": 358
        },
        "id": "QB9jdsDJvs3K",
        "outputId": "32983012-55a7-4f4b-82ae-65fe781b8417"
      },
      "execution_count": 12,
      "outputs": [
        {
          "output_type": "error",
          "ename": "TypeError",
          "evalue": "ignored",
          "traceback": [
            "\u001b[0;31m---------------------------------------------------------------------------\u001b[0m",
            "\u001b[0;31mTypeError\u001b[0m                                 Traceback (most recent call last)",
            "\u001b[0;32m<ipython-input-12-06e48fecb839>\u001b[0m in \u001b[0;36m<module>\u001b[0;34m()\u001b[0m\n\u001b[1;32m      4\u001b[0m   \u001b[0;32mreturn\u001b[0m \u001b[0mfunc2\u001b[0m\u001b[0;34m(\u001b[0m\u001b[0mn1\u001b[0m \u001b[0;34m+\u001b[0m \u001b[0mn2\u001b[0m\u001b[0;34m)\u001b[0m\u001b[0;34m\u001b[0m\u001b[0;34m\u001b[0m\u001b[0m\n\u001b[1;32m      5\u001b[0m \u001b[0;34m\u001b[0m\u001b[0m\n\u001b[0;32m----> 6\u001b[0;31m \u001b[0mprint\u001b[0m\u001b[0;34m(\u001b[0m\u001b[0mfunc1\u001b[0m\u001b[0;34m(\u001b[0m\u001b[0;36m5\u001b[0m\u001b[0;34m,\u001b[0m\u001b[0;36m8\u001b[0m\u001b[0;34m)\u001b[0m\u001b[0;34m)\u001b[0m\u001b[0;34m\u001b[0m\u001b[0;34m\u001b[0m\u001b[0m\n\u001b[0m\u001b[1;32m      7\u001b[0m \u001b[0mprint\u001b[0m\u001b[0;34m(\u001b[0m\u001b[0mfunc2\u001b[0m\u001b[0;34m(\u001b[0m\u001b[0;36m5\u001b[0m\u001b[0;34m,\u001b[0m\u001b[0;36m8\u001b[0m\u001b[0;34m)\u001b[0m\u001b[0;34m)\u001b[0m\u001b[0;34m\u001b[0m\u001b[0;34m\u001b[0m\u001b[0m\n",
            "\u001b[0;32m<ipython-input-12-06e48fecb839>\u001b[0m in \u001b[0;36mfunc1\u001b[0;34m(n1, n2)\u001b[0m\n\u001b[1;32m      2\u001b[0m   \u001b[0;32mdef\u001b[0m \u001b[0mfunc2\u001b[0m\u001b[0;34m(\u001b[0m\u001b[0mu1\u001b[0m\u001b[0;34m,\u001b[0m \u001b[0mu2\u001b[0m\u001b[0;34m)\u001b[0m\u001b[0;34m:\u001b[0m\u001b[0;34m\u001b[0m\u001b[0;34m\u001b[0m\u001b[0m\n\u001b[1;32m      3\u001b[0m     \u001b[0;32mreturn\u001b[0m \u001b[0mu1\u001b[0m \u001b[0;34m+\u001b[0m \u001b[0mu2\u001b[0m\u001b[0;34m\u001b[0m\u001b[0;34m\u001b[0m\u001b[0m\n\u001b[0;32m----> 4\u001b[0;31m   \u001b[0;32mreturn\u001b[0m \u001b[0mfunc2\u001b[0m\u001b[0;34m(\u001b[0m\u001b[0mn1\u001b[0m \u001b[0;34m+\u001b[0m \u001b[0mn2\u001b[0m\u001b[0;34m)\u001b[0m\u001b[0;34m\u001b[0m\u001b[0;34m\u001b[0m\u001b[0m\n\u001b[0m\u001b[1;32m      5\u001b[0m \u001b[0;34m\u001b[0m\u001b[0m\n\u001b[1;32m      6\u001b[0m \u001b[0mprint\u001b[0m\u001b[0;34m(\u001b[0m\u001b[0mfunc1\u001b[0m\u001b[0;34m(\u001b[0m\u001b[0;36m5\u001b[0m\u001b[0;34m,\u001b[0m\u001b[0;36m8\u001b[0m\u001b[0;34m)\u001b[0m\u001b[0;34m)\u001b[0m\u001b[0;34m\u001b[0m\u001b[0;34m\u001b[0m\u001b[0m\n",
            "\u001b[0;31mTypeError\u001b[0m: func2() missing 1 required positional argument: 'u2'"
          ]
        }
      ]
    },
    {
      "cell_type": "code",
      "source": [
        "# 람다 함수\n",
        "add1 = lambda n1, n2 : n1 + n2\n",
        "print(add1(123, 123))"
      ],
      "metadata": {
        "colab": {
          "base_uri": "https://localhost:8080/"
        },
        "id": "DJ_oyk-8x7Ld",
        "outputId": "d600db70-b216-4cb5-ca25-a87ac6c2d2ba"
      },
      "execution_count": 13,
      "outputs": [
        {
          "output_type": "stream",
          "name": "stdout",
          "text": [
            "246\n"
          ]
        }
      ]
    },
    {
      "cell_type": "markdown",
      "source": [
        "# 변수"
      ],
      "metadata": {
        "id": "vulaiwmDuVUV"
      }
    },
    {
      "cell_type": "code",
      "source": [
        "a = 10\n",
        "def fun1():\n",
        "  a = 20\n",
        "  print(a)\n",
        "def fun2():\n",
        "  print(a)\n",
        "\n",
        "fun1() #지역변수\n",
        "fun2() #전역변수"
      ],
      "metadata": {
        "id": "XQCdQDcmhyqB",
        "colab": {
          "base_uri": "https://localhost:8080/"
        },
        "outputId": "4d6be215-6acc-40b2-8341-9b342c31da92"
      },
      "execution_count": 8,
      "outputs": [
        {
          "output_type": "stream",
          "name": "stdout",
          "text": [
            "20\n",
            "10\n"
          ]
        }
      ]
    },
    {
      "cell_type": "code",
      "source": [
        "a = 10\n",
        "def fun1():\n",
        "  global a\n",
        "  a = 20\n",
        "  print(a)\n",
        "def fun2():\n",
        "  print(a)\n",
        "\n",
        "fun1() \n",
        "fun2() "
      ],
      "metadata": {
        "colab": {
          "base_uri": "https://localhost:8080/"
        },
        "id": "ZknkWLIUutbB",
        "outputId": "a0bb0e8d-b536-46bd-8965-fef9fc92f48d"
      },
      "execution_count": 11,
      "outputs": [
        {
          "output_type": "stream",
          "name": "stdout",
          "text": [
            "20\n",
            "20\n"
          ]
        }
      ]
    },
    {
      "cell_type": "code",
      "source": [
        ""
      ],
      "metadata": {
        "id": "GKZcVMYfvGdv"
      },
      "execution_count": null,
      "outputs": []
    }
  ]
}