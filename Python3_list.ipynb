{
  "nbformat": 4,
  "nbformat_minor": 0,
  "metadata": {
    "colab": {
      "name": "Python3_list.ipynb",
      "provenance": [],
      "authorship_tag": "ABX9TyNYJInjqv8akyXrt/YdR6qJ",
      "include_colab_link": true
    },
    "kernelspec": {
      "name": "python3",
      "display_name": "Python 3"
    },
    "language_info": {
      "name": "python"
    }
  },
  "cells": [
    {
      "cell_type": "markdown",
      "metadata": {
        "id": "view-in-github",
        "colab_type": "text"
      },
      "source": [
        "<a href=\"https://colab.research.google.com/github/fnzl54/Python_study/blob/main/Python3_list.ipynb\" target=\"_parent\"><img src=\"https://colab.research.google.com/assets/colab-badge.svg\" alt=\"Open In Colab\"/></a>"
      ]
    },
    {
      "cell_type": "markdown",
      "source": [
        "# 리스트(list)"
      ],
      "metadata": {
        "id": "nW6ZZR5WHCK_"
      }
    },
    {
      "cell_type": "code",
      "source": [
        "print([1,'one', 2,'two',3])"
      ],
      "metadata": {
        "colab": {
          "base_uri": "https://localhost:8080/"
        },
        "id": "yI6SDZysHCA1",
        "outputId": "effb0d98-e039-4224-a77b-2c563b12b784"
      },
      "execution_count": 2,
      "outputs": [
        {
          "output_type": "stream",
          "name": "stdout",
          "text": [
            "[1, 'one', 2, 'two', 3]\n"
          ]
        }
      ]
    },
    {
      "cell_type": "code",
      "execution_count": 5,
      "metadata": {
        "colab": {
          "base_uri": "https://localhost:8080/",
          "height": 35
        },
        "id": "Cgkft3w-FbJp",
        "outputId": "a01d2f6e-b202-4fb2-befd-882ab594ddc3"
      },
      "outputs": [
        {
          "output_type": "execute_result",
          "data": {
            "application/vnd.google.colaboratory.intrinsic+json": {
              "type": "string"
            },
            "text/plain": [
              "'f'"
            ]
          },
          "metadata": {},
          "execution_count": 5
        }
      ],
      "source": [
        "list = [1,2,3,['s','c','f']]\n",
        "list[3][2]"
      ]
    },
    {
      "cell_type": "code",
      "source": [
        "list[1:2]"
      ],
      "metadata": {
        "colab": {
          "base_uri": "https://localhost:8080/"
        },
        "id": "g37jO6wXHrKd",
        "outputId": "654ad368-a4f9-45f8-d708-f754e5cdcacd"
      },
      "execution_count": 6,
      "outputs": [
        {
          "output_type": "execute_result",
          "data": {
            "text/plain": [
              "[2]"
            ]
          },
          "metadata": {},
          "execution_count": 6
        }
      ]
    },
    {
      "cell_type": "code",
      "source": [
        "list[3][1:2]"
      ],
      "metadata": {
        "colab": {
          "base_uri": "https://localhost:8080/"
        },
        "id": "WZArjVYfIGKI",
        "outputId": "fcfc7f63-2450-4123-bb22-14206c9f4c51"
      },
      "execution_count": 7,
      "outputs": [
        {
          "output_type": "execute_result",
          "data": {
            "text/plain": [
              "['c']"
            ]
          },
          "metadata": {},
          "execution_count": 7
        }
      ]
    },
    {
      "cell_type": "code",
      "source": [
        "list = [1,3,6,2,4,7,8,5]\n",
        "list.sort()\n",
        "print(list)\n",
        "list.reverse()\n",
        "print(list)"
      ],
      "metadata": {
        "colab": {
          "base_uri": "https://localhost:8080/"
        },
        "id": "130eXgDlIfUe",
        "outputId": "a584baee-09fd-4f57-8c20-600d6b03a2aa"
      },
      "execution_count": 12,
      "outputs": [
        {
          "output_type": "stream",
          "name": "stdout",
          "text": [
            "[1, 2, 3, 4, 5, 6, 7, 8]\n",
            "[8, 7, 6, 5, 4, 3, 2, 1]\n"
          ]
        }
      ]
    },
    {
      "cell_type": "code",
      "source": [
        "del list[2]\n",
        "print(list)"
      ],
      "metadata": {
        "colab": {
          "base_uri": "https://localhost:8080/"
        },
        "id": "C_h_8fEuJBFm",
        "outputId": "42e13a76-92d4-4cad-865e-c7b0a43de73a"
      },
      "execution_count": 21,
      "outputs": [
        {
          "output_type": "stream",
          "name": "stdout",
          "text": [
            "[8, 7, 4, 3, 2, 1]\n"
          ]
        }
      ]
    },
    {
      "cell_type": "code",
      "source": [
        "list1 = [1,2,3,4,5]\n",
        "list2 = [10,11,12,13,14,15]\n",
        "print(list1 + list2)\n",
        "print(list1 * 8)"
      ],
      "metadata": {
        "colab": {
          "base_uri": "https://localhost:8080/"
        },
        "id": "-XYmUuhGNOE6",
        "outputId": "08216264-5bab-4d28-d3fe-1e4e9309fcd2"
      },
      "execution_count": 23,
      "outputs": [
        {
          "output_type": "stream",
          "name": "stdout",
          "text": [
            "[1, 2, 3, 4, 5, 10, 11, 12, 13, 14, 15]\n",
            "[1, 2, 3, 4, 5, 1, 2, 3, 4, 5, 1, 2, 3, 4, 5, 1, 2, 3, 4, 5, 1, 2, 3, 4, 5, 1, 2, 3, 4, 5, 1, 2, 3, 4, 5, 1, 2, 3, 4, 5]\n"
          ]
        }
      ]
    },
    {
      "cell_type": "markdown",
      "source": [
        "# 튜플"
      ],
      "metadata": {
        "id": "A8uwk9FhJ_vI"
      }
    },
    {
      "cell_type": "code",
      "source": [
        "tuple = (1,2,3,['s','c','f'])\n",
        "print(tuple)"
      ],
      "metadata": {
        "colab": {
          "base_uri": "https://localhost:8080/"
        },
        "id": "5OMylvRZJ_dQ",
        "outputId": "b00d6816-4810-4a51-db42-658ccf30c9e0"
      },
      "execution_count": 16,
      "outputs": [
        {
          "output_type": "stream",
          "name": "stdout",
          "text": [
            "(1, 2, 3, ['s', 'c', 'f'])\n"
          ]
        }
      ]
    },
    {
      "cell_type": "code",
      "source": [
        "tuple[3][1] = 4\n",
        "print(tuple)"
      ],
      "metadata": {
        "colab": {
          "base_uri": "https://localhost:8080/"
        },
        "id": "WpEGidGYJ9n_",
        "outputId": "eeff053f-b647-4ff2-cc3f-89141691e1b3"
      },
      "execution_count": 20,
      "outputs": [
        {
          "output_type": "stream",
          "name": "stdout",
          "text": [
            "(1, 2, 3, ['s', 4, 'f'])\n"
          ]
        }
      ]
    },
    {
      "cell_type": "markdown",
      "source": [
        "# 세트"
      ],
      "metadata": {
        "id": "kEKQ_-oGNLzb"
      }
    },
    {
      "cell_type": "code",
      "source": [
        "set1 = {1,4,7,8,3,65,2,36,73}\n",
        "set2 = {1,2,3,4,5,6,7,8,9}\n",
        "print(set1 & set2)\n",
        "print(set1 | set2)\n",
        "print(set1 - set2)\n",
        "print(set1 ^ set2)"
      ],
      "metadata": {
        "colab": {
          "base_uri": "https://localhost:8080/"
        },
        "id": "yppnHcAgNLpj",
        "outputId": "b2384b5d-2fda-4897-c51f-11e905c5e790"
      },
      "execution_count": 26,
      "outputs": [
        {
          "output_type": "stream",
          "name": "stdout",
          "text": [
            "{1, 2, 3, 4, 7, 8}\n",
            "{1, 65, 3, 4, 2, 36, 7, 8, 73, 5, 6, 9}\n",
            "{73, 65, 36}\n",
            "{65, 36, 5, 6, 9, 73}\n"
          ]
        }
      ]
    },
    {
      "cell_type": "code",
      "source": [
        "set1 = {1,4,7,8,3,65,2,36,73}\n",
        "set1.update([100,200])\n",
        "print(set1)\n",
        "set1.remove(100)\n",
        "print(set1)"
      ],
      "metadata": {
        "colab": {
          "base_uri": "https://localhost:8080/"
        },
        "id": "XOF0C0quKQ4-",
        "outputId": "978cdad2-7833-4f5a-ffd6-9113063040ff"
      },
      "execution_count": 28,
      "outputs": [
        {
          "output_type": "stream",
          "name": "stdout",
          "text": [
            "{1, 65, 3, 4, 2, 36, 7, 8, 73, 100, 200}\n",
            "{1, 65, 3, 4, 2, 36, 7, 8, 73, 200}\n"
          ]
        }
      ]
    },
    {
      "cell_type": "markdown",
      "source": [
        "# 딕셔너리"
      ],
      "metadata": {
        "id": "SSz9b6yQO8e6"
      }
    },
    {
      "cell_type": "code",
      "source": [
        "dic = {1:'one', 2:'two', 3:'three'}\n",
        "print(dic)\n",
        "dic[7] = 'asd'\n",
        "print(dic)"
      ],
      "metadata": {
        "colab": {
          "base_uri": "https://localhost:8080/"
        },
        "id": "OQC1WxNlO8Sm",
        "outputId": "0cd97def-26ce-4a89-a37e-b45d941ca82c"
      },
      "execution_count": 30,
      "outputs": [
        {
          "output_type": "stream",
          "name": "stdout",
          "text": [
            "{1: 'one', 2: 'two', 3: 'three'}\n",
            "{1: 'one', 2: 'two', 3: 'three', 7: 'asd'}\n"
          ]
        }
      ]
    },
    {
      "cell_type": "code",
      "source": [
        "print(dic.keys())"
      ],
      "metadata": {
        "colab": {
          "base_uri": "https://localhost:8080/"
        },
        "id": "0HLpYZiDO7CU",
        "outputId": "04e48d6c-0461-49c7-cccc-ad54ed2c5278"
      },
      "execution_count": 33,
      "outputs": [
        {
          "output_type": "stream",
          "name": "stdout",
          "text": [
            "dict_keys([1, 2, 3, 7])\n"
          ]
        }
      ]
    },
    {
      "cell_type": "code",
      "source": [
        "print(dic.values())"
      ],
      "metadata": {
        "colab": {
          "base_uri": "https://localhost:8080/"
        },
        "id": "Taw0_GlcVFNC",
        "outputId": "2a87b71f-469f-474c-f350-2b1abce68e05"
      },
      "execution_count": 34,
      "outputs": [
        {
          "output_type": "stream",
          "name": "stdout",
          "text": [
            "dict_values(['one', 'two', 'three', 'asd'])\n"
          ]
        }
      ]
    },
    {
      "cell_type": "code",
      "source": [
        ""
      ],
      "metadata": {
        "id": "hopCGgRnVfO_"
      },
      "execution_count": null,
      "outputs": []
    }
  ]
}