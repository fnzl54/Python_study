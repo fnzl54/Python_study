{
  "nbformat": 4,
  "nbformat_minor": 0,
  "metadata": {
    "colab": {
      "name": "Python8_Module.ipynb",
      "provenance": [],
      "authorship_tag": "ABX9TyNDJdsH1ffWiZDzShSM0J2P",
      "include_colab_link": true
    },
    "kernelspec": {
      "name": "python3",
      "display_name": "Python 3"
    },
    "language_info": {
      "name": "python"
    }
  },
  "cells": [
    {
      "cell_type": "markdown",
      "metadata": {
        "id": "view-in-github",
        "colab_type": "text"
      },
      "source": [
        "<a href=\"https://colab.research.google.com/github/fnzl54/Python_study/blob/main/Python8_Module.ipynb\" target=\"_parent\"><img src=\"https://colab.research.google.com/assets/colab-badge.svg\" alt=\"Open In Colab\"/></a>"
      ]
    },
    {
      "cell_type": "markdown",
      "source": [
        "# 파이썬 표준 모듈"
      ],
      "metadata": {
        "id": "ih_4JIyrNata"
      }
    },
    {
      "cell_type": "code",
      "execution_count": 3,
      "metadata": {
        "colab": {
          "base_uri": "https://localhost:8080/"
        },
        "id": "Z93vBGzqGYvH",
        "outputId": "b35e4f49-b1f3-4f54-91c7-1a38c1c31613"
      },
      "outputs": [
        {
          "output_type": "stream",
          "name": "stdout",
          "text": [
            "<module 'time' (built-in)>\n",
            "1641050208.004624\n",
            "time.struct_time(tm_year=2022, tm_mon=1, tm_mday=1, tm_hour=15, tm_min=16, tm_sec=48, tm_wday=5, tm_yday=1, tm_isdst=0)\n"
          ]
        }
      ],
      "source": [
        "import time\n",
        "print(time)\n",
        "print(time.time())\n",
        "print(time.gmtime(time.time()))"
      ]
    },
    {
      "cell_type": "code",
      "source": [
        "from datetime import date\n",
        "print(date)\n",
        "print(date(2011, 5, 4))"
      ],
      "metadata": {
        "colab": {
          "base_uri": "https://localhost:8080/"
        },
        "id": "yqdwl-ouNiUC",
        "outputId": "1ce60b64-47b0-450f-984b-1be3cb84e9be"
      },
      "execution_count": 4,
      "outputs": [
        {
          "output_type": "stream",
          "name": "stdout",
          "text": [
            "<class 'datetime.date'>\n",
            "2011-05-04\n"
          ]
        }
      ]
    },
    {
      "cell_type": "code",
      "source": [
        "from datetime import time\n",
        "print(time)\n",
        "print(time(14,30,24))"
      ],
      "metadata": {
        "colab": {
          "base_uri": "https://localhost:8080/"
        },
        "id": "tvVV3b_lOi0t",
        "outputId": "c8aa2d86-fe36-4750-cd5c-b8a35cc0c72a"
      },
      "execution_count": 5,
      "outputs": [
        {
          "output_type": "stream",
          "name": "stdout",
          "text": [
            "<class 'datetime.time'>\n",
            "14:30:24\n"
          ]
        }
      ]
    },
    {
      "cell_type": "code",
      "source": [
        "from datetime import datetime\n",
        "print(datetime)\n",
        "print(datetime(2022,1,1))\n",
        "now = datetime.now()\n",
        "print(now.strftime('%Y년 %m월 %d일 %H시 %M분 %S초'))"
      ],
      "metadata": {
        "colab": {
          "base_uri": "https://localhost:8080/"
        },
        "id": "h5QZCjcoOrtc",
        "outputId": "ff8cd10e-3692-4c66-99c6-513c57c7a021"
      },
      "execution_count": 9,
      "outputs": [
        {
          "output_type": "stream",
          "name": "stdout",
          "text": [
            "<class 'datetime.datetime'>\n",
            "2022-01-01 00:00:00\n",
            "2022년 01월 01일 15시 23분 42초\n"
          ]
        }
      ]
    },
    {
      "cell_type": "code",
      "source": [
        "from datetime import date\n",
        "birthday = date(2011, 5, 4)\n",
        "today = date.today()\n",
        "day = today - birthday\n",
        "print(day.days)"
      ],
      "metadata": {
        "colab": {
          "base_uri": "https://localhost:8080/"
        },
        "id": "7sRyc_WTO9hK",
        "outputId": "fa57d517-9fe0-4ef5-881e-32ccbcf4dc16"
      },
      "execution_count": 11,
      "outputs": [
        {
          "output_type": "stream",
          "name": "stdout",
          "text": [
            "3895\n"
          ]
        }
      ]
    },
    {
      "cell_type": "code",
      "source": [
        "import random\n",
        "print(random.random())\n",
        "print(random.randint(1, 10))\n",
        "li = range(1, 45)\n",
        "print(random.sample(li, 5))"
      ],
      "metadata": {
        "colab": {
          "base_uri": "https://localhost:8080/"
        },
        "id": "fwAD2teGPoDN",
        "outputId": "c88eb363-89db-45f0-c021-2bf69261ca3c"
      },
      "execution_count": 17,
      "outputs": [
        {
          "output_type": "stream",
          "name": "stdout",
          "text": [
            "0.8379551240987977\n",
            "10\n",
            "[29, 32, 40, 2, 38]\n"
          ]
        }
      ]
    },
    {
      "cell_type": "code",
      "source": [
        ""
      ],
      "metadata": {
        "id": "R2t2U4dqQUZR"
      },
      "execution_count": null,
      "outputs": []
    }
  ]
}