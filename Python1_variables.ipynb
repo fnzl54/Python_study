{
  "nbformat": 4,
  "nbformat_minor": 0,
  "metadata": {
    "colab": {
      "name": "Python1_variables.ipynb",
      "provenance": [],
      "collapsed_sections": [],
      "authorship_tag": "ABX9TyPJplgUpWr/WM3cvGD7/xgN",
      "include_colab_link": true
    },
    "kernelspec": {
      "name": "python3",
      "display_name": "Python 3"
    },
    "language_info": {
      "name": "python"
    }
  },
  "cells": [
    {
      "cell_type": "markdown",
      "metadata": {
        "id": "view-in-github",
        "colab_type": "text"
      },
      "source": [
        "<a href=\"https://colab.research.google.com/github/fnzl54/Python_study/blob/main/Python1_variables.ipynb\" target=\"_parent\"><img src=\"https://colab.research.google.com/assets/colab-badge.svg\" alt=\"Open In Colab\"/></a>"
      ]
    },
    {
      "cell_type": "markdown",
      "source": [
        "# 변수"
      ],
      "metadata": {
        "id": "a4tpNqGv1L6t"
      }
    },
    {
      "cell_type": "code",
      "execution_count": 1,
      "metadata": {
        "id": "eL934Vm4z26G"
      },
      "outputs": [],
      "source": [
        "a = True\n",
        "b = 10\n",
        "c = 0b010\n",
        "d = 0o130\n",
        "e = 0xABC\n",
        "f = .123\n",
        "g = \"Chan\""
      ]
    },
    {
      "cell_type": "code",
      "source": [
        "# 리스트\n",
        "l = [1, 2, 3]\n",
        "print(l)\n",
        "print(type(l))"
      ],
      "metadata": {
        "colab": {
          "base_uri": "https://localhost:8080/"
        },
        "id": "vOI4UMlP12c6",
        "outputId": "04b473ee-96ff-4366-c176-c30a9be84b11"
      },
      "execution_count": 2,
      "outputs": [
        {
          "output_type": "stream",
          "name": "stdout",
          "text": [
            "[1, 2, 3]\n",
            "<class 'list'>\n"
          ]
        }
      ]
    },
    {
      "cell_type": "code",
      "source": [
        "# 튜플\n",
        "t = (1, 2, 3)\n",
        "print(t)\n",
        "print(type(t))"
      ],
      "metadata": {
        "colab": {
          "base_uri": "https://localhost:8080/"
        },
        "id": "tWK4Ix0L5co9",
        "outputId": "cea62a36-a107-4c94-a446-d17ba759dcbf"
      },
      "execution_count": 3,
      "outputs": [
        {
          "output_type": "stream",
          "name": "stdout",
          "text": [
            "(1, 2, 3)\n",
            "<class 'tuple'>\n"
          ]
        }
      ]
    },
    {
      "cell_type": "code",
      "source": [
        "# 범위\n",
        "r = range(10)\n",
        "print(r)\n",
        "print(type(r))"
      ],
      "metadata": {
        "colab": {
          "base_uri": "https://localhost:8080/"
        },
        "id": "mfJllBou5ouF",
        "outputId": "4b645f36-054e-4705-dfa9-8fa33ac61b26"
      },
      "execution_count": 4,
      "outputs": [
        {
          "output_type": "stream",
          "name": "stdout",
          "text": [
            "range(0, 10)\n",
            "<class 'range'>\n"
          ]
        }
      ]
    },
    {
      "cell_type": "code",
      "source": [
        "# 집합\n",
        "s = {2, 1, 3, 2, 2}\n",
        "print(s)\n",
        "print(type(s))"
      ],
      "metadata": {
        "colab": {
          "base_uri": "https://localhost:8080/"
        },
        "id": "o1jAE33b5w7u",
        "outputId": "0c5be5e4-4515-499b-ca58-0f4cef09e2bb"
      },
      "execution_count": 5,
      "outputs": [
        {
          "output_type": "stream",
          "name": "stdout",
          "text": [
            "{1, 2, 3}\n",
            "<class 'set'>\n"
          ]
        }
      ]
    },
    {
      "cell_type": "code",
      "source": [
        "# 딕셔너리\n",
        "d = {1: 'one', 2: 'two'}\n",
        "print(d)\n",
        "print(type(d))"
      ],
      "metadata": {
        "colab": {
          "base_uri": "https://localhost:8080/"
        },
        "id": "yZ582zeh6A20",
        "outputId": "8e8b75bd-c5f5-4a2f-d891-9d0fc02cf902"
      },
      "execution_count": 6,
      "outputs": [
        {
          "output_type": "stream",
          "name": "stdout",
          "text": [
            "{1: 'one', 2: 'two'}\n",
            "<class 'dict'>\n"
          ]
        }
      ]
    },
    {
      "cell_type": "code",
      "source": [
        "# 자료형 변환\n",
        "print(chr(97))\n",
        "print(chr(65))"
      ],
      "metadata": {
        "id": "yzUFNsZF6Puk",
        "colab": {
          "base_uri": "https://localhost:8080/"
        },
        "outputId": "f6a6a19e-3327-4373-f2e4-b0157705c02b"
      },
      "execution_count": 8,
      "outputs": [
        {
          "output_type": "stream",
          "name": "stdout",
          "text": [
            "a\n",
            "A\n"
          ]
        }
      ]
    },
    {
      "cell_type": "code",
      "source": [
        "print(ord('a'))\n",
        "print(ord('A'))"
      ],
      "metadata": {
        "colab": {
          "base_uri": "https://localhost:8080/"
        },
        "id": "zTaDu5xLOYDl",
        "outputId": "b81deb23-c66a-4ab1-d1dd-f48cb2a1fa53"
      },
      "execution_count": 9,
      "outputs": [
        {
          "output_type": "stream",
          "name": "stdout",
          "text": [
            "97\n",
            "65\n"
          ]
        }
      ]
    },
    {
      "cell_type": "code",
      "source": [
        "#자료형 연산\n",
        "print(pow(2, 10))\n",
        "print(len(\"String\"))"
      ],
      "metadata": {
        "colab": {
          "base_uri": "https://localhost:8080/"
        },
        "id": "sAiOgYSCO4qm",
        "outputId": "1c133f0a-fa24-47ec-cca1-29e3526f9469"
      },
      "execution_count": 13,
      "outputs": [
        {
          "output_type": "stream",
          "name": "stdout",
          "text": [
            "1024\n",
            "6\n"
          ]
        }
      ]
    },
    {
      "cell_type": "markdown",
      "source": [
        "# 연산자"
      ],
      "metadata": {
        "id": "MT1JZSBdQqhS"
      }
    },
    {
      "cell_type": "code",
      "source": [
        "a, b = 6, 4\n",
        "a **= b\n",
        "print(a)"
      ],
      "metadata": {
        "colab": {
          "base_uri": "https://localhost:8080/"
        },
        "id": "fDDqg-w-Qdhh",
        "outputId": "c620e55b-04b4-4917-ab47-36c051efe698"
      },
      "execution_count": 14,
      "outputs": [
        {
          "output_type": "stream",
          "name": "stdout",
          "text": [
            "1296\n"
          ]
        }
      ]
    },
    {
      "cell_type": "code",
      "source": [
        "# 비트 연산자\n",
        "a, b = 6, 4\n",
        "print(bin(a))\n",
        "print(bin(b))\n",
        "print(a & b)\n",
        "print(a | b)\n",
        "print(a ^ b)\n",
        "print(~a)\n",
        "print(a << b)\n",
        "print(a >> b)"
      ],
      "metadata": {
        "colab": {
          "base_uri": "https://localhost:8080/"
        },
        "id": "QTwelPUwRYKg",
        "outputId": "6e59a6d2-ef90-4c68-f1e6-080ddb242cf4"
      },
      "execution_count": 16,
      "outputs": [
        {
          "output_type": "stream",
          "name": "stdout",
          "text": [
            "0b110\n",
            "0b100\n",
            "4\n",
            "6\n",
            "2\n",
            "-7\n",
            "96\n",
            "0\n"
          ]
        }
      ]
    },
    {
      "cell_type": "code",
      "source": [
        "# 멤버 연산자\n",
        "a, b = 6, 4\n",
        "l = [2, 4, 8]\n",
        "print(a in l)\n",
        "print(b not in l)"
      ],
      "metadata": {
        "colab": {
          "base_uri": "https://localhost:8080/"
        },
        "id": "9kN0FYN3RzUe",
        "outputId": "abc3fdf5-894d-40e7-8b27-cac3d4a34769"
      },
      "execution_count": 17,
      "outputs": [
        {
          "output_type": "stream",
          "name": "stdout",
          "text": [
            "False\n",
            "False\n"
          ]
        }
      ]
    },
    {
      "cell_type": "code",
      "source": [
        "# 식별 연산자\n",
        "a, b = 6, 4\n",
        "print(a is b)\n",
        "print(a is not b)"
      ],
      "metadata": {
        "colab": {
          "base_uri": "https://localhost:8080/"
        },
        "id": "_zwUbYyaTDp2",
        "outputId": "a09a2d11-9d3f-46e8-c92f-792e710fe951"
      },
      "execution_count": 20,
      "outputs": [
        {
          "output_type": "stream",
          "name": "stdout",
          "text": [
            "False\n",
            "True\n"
          ]
        }
      ]
    },
    {
      "cell_type": "code",
      "source": [
        ""
      ],
      "metadata": {
        "id": "d0ovvJEsTunv"
      },
      "execution_count": null,
      "outputs": []
    }
  ]
}